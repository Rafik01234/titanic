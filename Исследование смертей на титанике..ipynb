{
 "cells": [
  {
   "cell_type": "code",
   "execution_count": 1,
   "id": "8fe290c3-1525-4dca-b964-4ced5ee74607",
   "metadata": {},
   "outputs": [
    {
     "data": {
      "text/html": [
       "<div>\n",
       "<style scoped>\n",
       "    .dataframe tbody tr th:only-of-type {\n",
       "        vertical-align: middle;\n",
       "    }\n",
       "\n",
       "    .dataframe tbody tr th {\n",
       "        vertical-align: top;\n",
       "    }\n",
       "\n",
       "    .dataframe thead th {\n",
       "        text-align: right;\n",
       "    }\n",
       "</style>\n",
       "<table border=\"1\" class=\"dataframe\">\n",
       "  <thead>\n",
       "    <tr style=\"text-align: right;\">\n",
       "      <th></th>\n",
       "      <th>Unnamed: 0</th>\n",
       "      <th>survived</th>\n",
       "      <th>pclass</th>\n",
       "      <th>sex</th>\n",
       "      <th>age</th>\n",
       "      <th>sibsp</th>\n",
       "      <th>parch</th>\n",
       "      <th>fare</th>\n",
       "      <th>embarked</th>\n",
       "      <th>class</th>\n",
       "      <th>who</th>\n",
       "      <th>adult_male</th>\n",
       "      <th>deck</th>\n",
       "      <th>embark_town</th>\n",
       "      <th>alive</th>\n",
       "      <th>alone</th>\n",
       "    </tr>\n",
       "  </thead>\n",
       "  <tbody>\n",
       "    <tr>\n",
       "      <th>0</th>\n",
       "      <td>0</td>\n",
       "      <td>0</td>\n",
       "      <td>3</td>\n",
       "      <td>male</td>\n",
       "      <td>22.0</td>\n",
       "      <td>1</td>\n",
       "      <td>0</td>\n",
       "      <td>7.2500</td>\n",
       "      <td>S</td>\n",
       "      <td>Third</td>\n",
       "      <td>man</td>\n",
       "      <td>True</td>\n",
       "      <td>NaN</td>\n",
       "      <td>Southampton</td>\n",
       "      <td>no</td>\n",
       "      <td>False</td>\n",
       "    </tr>\n",
       "    <tr>\n",
       "      <th>1</th>\n",
       "      <td>1</td>\n",
       "      <td>1</td>\n",
       "      <td>1</td>\n",
       "      <td>female</td>\n",
       "      <td>38.0</td>\n",
       "      <td>1</td>\n",
       "      <td>0</td>\n",
       "      <td>71.2833</td>\n",
       "      <td>C</td>\n",
       "      <td>First</td>\n",
       "      <td>woman</td>\n",
       "      <td>False</td>\n",
       "      <td>C</td>\n",
       "      <td>Cherbourg</td>\n",
       "      <td>yes</td>\n",
       "      <td>False</td>\n",
       "    </tr>\n",
       "    <tr>\n",
       "      <th>2</th>\n",
       "      <td>2</td>\n",
       "      <td>1</td>\n",
       "      <td>3</td>\n",
       "      <td>female</td>\n",
       "      <td>26.0</td>\n",
       "      <td>0</td>\n",
       "      <td>0</td>\n",
       "      <td>7.9250</td>\n",
       "      <td>S</td>\n",
       "      <td>Third</td>\n",
       "      <td>woman</td>\n",
       "      <td>False</td>\n",
       "      <td>NaN</td>\n",
       "      <td>Southampton</td>\n",
       "      <td>yes</td>\n",
       "      <td>True</td>\n",
       "    </tr>\n",
       "    <tr>\n",
       "      <th>3</th>\n",
       "      <td>3</td>\n",
       "      <td>1</td>\n",
       "      <td>1</td>\n",
       "      <td>female</td>\n",
       "      <td>35.0</td>\n",
       "      <td>1</td>\n",
       "      <td>0</td>\n",
       "      <td>53.1000</td>\n",
       "      <td>S</td>\n",
       "      <td>First</td>\n",
       "      <td>woman</td>\n",
       "      <td>False</td>\n",
       "      <td>C</td>\n",
       "      <td>Southampton</td>\n",
       "      <td>yes</td>\n",
       "      <td>False</td>\n",
       "    </tr>\n",
       "    <tr>\n",
       "      <th>4</th>\n",
       "      <td>4</td>\n",
       "      <td>0</td>\n",
       "      <td>3</td>\n",
       "      <td>male</td>\n",
       "      <td>35.0</td>\n",
       "      <td>0</td>\n",
       "      <td>0</td>\n",
       "      <td>8.0500</td>\n",
       "      <td>S</td>\n",
       "      <td>Third</td>\n",
       "      <td>man</td>\n",
       "      <td>True</td>\n",
       "      <td>NaN</td>\n",
       "      <td>Southampton</td>\n",
       "      <td>no</td>\n",
       "      <td>True</td>\n",
       "    </tr>\n",
       "    <tr>\n",
       "      <th>...</th>\n",
       "      <td>...</td>\n",
       "      <td>...</td>\n",
       "      <td>...</td>\n",
       "      <td>...</td>\n",
       "      <td>...</td>\n",
       "      <td>...</td>\n",
       "      <td>...</td>\n",
       "      <td>...</td>\n",
       "      <td>...</td>\n",
       "      <td>...</td>\n",
       "      <td>...</td>\n",
       "      <td>...</td>\n",
       "      <td>...</td>\n",
       "      <td>...</td>\n",
       "      <td>...</td>\n",
       "      <td>...</td>\n",
       "    </tr>\n",
       "    <tr>\n",
       "      <th>886</th>\n",
       "      <td>886</td>\n",
       "      <td>0</td>\n",
       "      <td>2</td>\n",
       "      <td>male</td>\n",
       "      <td>27.0</td>\n",
       "      <td>0</td>\n",
       "      <td>0</td>\n",
       "      <td>13.0000</td>\n",
       "      <td>S</td>\n",
       "      <td>Second</td>\n",
       "      <td>man</td>\n",
       "      <td>True</td>\n",
       "      <td>NaN</td>\n",
       "      <td>Southampton</td>\n",
       "      <td>no</td>\n",
       "      <td>True</td>\n",
       "    </tr>\n",
       "    <tr>\n",
       "      <th>887</th>\n",
       "      <td>887</td>\n",
       "      <td>1</td>\n",
       "      <td>1</td>\n",
       "      <td>female</td>\n",
       "      <td>19.0</td>\n",
       "      <td>0</td>\n",
       "      <td>0</td>\n",
       "      <td>30.0000</td>\n",
       "      <td>S</td>\n",
       "      <td>First</td>\n",
       "      <td>woman</td>\n",
       "      <td>False</td>\n",
       "      <td>B</td>\n",
       "      <td>Southampton</td>\n",
       "      <td>yes</td>\n",
       "      <td>True</td>\n",
       "    </tr>\n",
       "    <tr>\n",
       "      <th>888</th>\n",
       "      <td>888</td>\n",
       "      <td>0</td>\n",
       "      <td>3</td>\n",
       "      <td>female</td>\n",
       "      <td>NaN</td>\n",
       "      <td>1</td>\n",
       "      <td>2</td>\n",
       "      <td>23.4500</td>\n",
       "      <td>S</td>\n",
       "      <td>Third</td>\n",
       "      <td>woman</td>\n",
       "      <td>False</td>\n",
       "      <td>NaN</td>\n",
       "      <td>Southampton</td>\n",
       "      <td>no</td>\n",
       "      <td>False</td>\n",
       "    </tr>\n",
       "    <tr>\n",
       "      <th>889</th>\n",
       "      <td>889</td>\n",
       "      <td>1</td>\n",
       "      <td>1</td>\n",
       "      <td>male</td>\n",
       "      <td>26.0</td>\n",
       "      <td>0</td>\n",
       "      <td>0</td>\n",
       "      <td>30.0000</td>\n",
       "      <td>C</td>\n",
       "      <td>First</td>\n",
       "      <td>man</td>\n",
       "      <td>True</td>\n",
       "      <td>C</td>\n",
       "      <td>Cherbourg</td>\n",
       "      <td>yes</td>\n",
       "      <td>True</td>\n",
       "    </tr>\n",
       "    <tr>\n",
       "      <th>890</th>\n",
       "      <td>890</td>\n",
       "      <td>0</td>\n",
       "      <td>3</td>\n",
       "      <td>male</td>\n",
       "      <td>32.0</td>\n",
       "      <td>0</td>\n",
       "      <td>0</td>\n",
       "      <td>7.7500</td>\n",
       "      <td>Q</td>\n",
       "      <td>Third</td>\n",
       "      <td>man</td>\n",
       "      <td>True</td>\n",
       "      <td>NaN</td>\n",
       "      <td>Queenstown</td>\n",
       "      <td>no</td>\n",
       "      <td>True</td>\n",
       "    </tr>\n",
       "  </tbody>\n",
       "</table>\n",
       "<p>891 rows × 16 columns</p>\n",
       "</div>"
      ],
      "text/plain": [
       "     Unnamed: 0  survived  pclass     sex   age  sibsp  parch     fare  \\\n",
       "0             0         0       3    male  22.0      1      0   7.2500   \n",
       "1             1         1       1  female  38.0      1      0  71.2833   \n",
       "2             2         1       3  female  26.0      0      0   7.9250   \n",
       "3             3         1       1  female  35.0      1      0  53.1000   \n",
       "4             4         0       3    male  35.0      0      0   8.0500   \n",
       "..          ...       ...     ...     ...   ...    ...    ...      ...   \n",
       "886         886         0       2    male  27.0      0      0  13.0000   \n",
       "887         887         1       1  female  19.0      0      0  30.0000   \n",
       "888         888         0       3  female   NaN      1      2  23.4500   \n",
       "889         889         1       1    male  26.0      0      0  30.0000   \n",
       "890         890         0       3    male  32.0      0      0   7.7500   \n",
       "\n",
       "    embarked   class    who  adult_male deck  embark_town alive  alone  \n",
       "0          S   Third    man        True  NaN  Southampton    no  False  \n",
       "1          C   First  woman       False    C    Cherbourg   yes  False  \n",
       "2          S   Third  woman       False  NaN  Southampton   yes   True  \n",
       "3          S   First  woman       False    C  Southampton   yes  False  \n",
       "4          S   Third    man        True  NaN  Southampton    no   True  \n",
       "..       ...     ...    ...         ...  ...          ...   ...    ...  \n",
       "886        S  Second    man        True  NaN  Southampton    no   True  \n",
       "887        S   First  woman       False    B  Southampton   yes   True  \n",
       "888        S   Third  woman       False  NaN  Southampton    no  False  \n",
       "889        C   First    man        True    C    Cherbourg   yes   True  \n",
       "890        Q   Third    man        True  NaN   Queenstown    no   True  \n",
       "\n",
       "[891 rows x 16 columns]"
      ]
     },
     "execution_count": 1,
     "metadata": {},
     "output_type": "execute_result"
    }
   ],
   "source": [
    "import pandas as pd\n",
    "import numpy as np\n",
    "\n",
    "df = pd.read_csv('titanic.csv')\n",
    "df"
   ]
  },
  {
   "cell_type": "markdown",
   "id": "65f4b658-d9c8-4477-bb44-9c41707343e2",
   "metadata": {},
   "source": [
    "Я загрузил таблицу, мы можем видеть информацию о пассажирах. Теперь думаю стоит сделать предобработку, чтобы дальше работать с данной таблицой."
   ]
  },
  {
   "cell_type": "code",
   "execution_count": 2,
   "id": "cb0ce028-9555-42fc-945d-e27b85c19189",
   "metadata": {},
   "outputs": [
    {
     "name": "stdout",
     "output_type": "stream",
     "text": [
      "<class 'pandas.core.frame.DataFrame'>\n",
      "RangeIndex: 891 entries, 0 to 890\n",
      "Data columns (total 16 columns):\n",
      " #   Column       Non-Null Count  Dtype  \n",
      "---  ------       --------------  -----  \n",
      " 0   Unnamed: 0   891 non-null    int64  \n",
      " 1   survived     891 non-null    int64  \n",
      " 2   pclass       891 non-null    int64  \n",
      " 3   sex          891 non-null    object \n",
      " 4   age          714 non-null    float64\n",
      " 5   sibsp        891 non-null    int64  \n",
      " 6   parch        891 non-null    int64  \n",
      " 7   fare         891 non-null    float64\n",
      " 8   embarked     889 non-null    object \n",
      " 9   class        891 non-null    object \n",
      " 10  who          891 non-null    object \n",
      " 11  adult_male   891 non-null    bool   \n",
      " 12  deck         203 non-null    object \n",
      " 13  embark_town  889 non-null    object \n",
      " 14  alive        891 non-null    object \n",
      " 15  alone        891 non-null    bool   \n",
      "dtypes: bool(2), float64(2), int64(5), object(7)\n",
      "memory usage: 99.3+ KB\n"
     ]
    }
   ],
   "source": [
    "df.info()"
   ]
  },
  {
   "cell_type": "markdown",
   "id": "6337e990-e0e2-4b76-b2f4-8c15622af8f6",
   "metadata": {},
   "source": [
    "Я проверил таблицу на наполненность, и мы видим что возраст некоторых пассажиров не указан, поэтому я решил сначало посмотреть на выбросы, чтобы понять разницы в возрасте пассажиров"
   ]
  },
  {
   "cell_type": "code",
   "execution_count": 3,
   "id": "50b9d74b-cc3f-455e-a254-e42db132d00d",
   "metadata": {},
   "outputs": [
    {
     "data": {
      "image/png": "[encoded data removed]",
      "text/plain": [
       "<Figure size 640x480 with 1 Axes>"
      ]
     },
     "metadata": {},
     "output_type": "display_data"
    }
   ],
   "source": [
    "import seaborn as sns\n",
    "import matplotlib.pyplot as plt\n",
    "\n",
    "sns.boxplot(x=df['age'])\n",
    "plt.show()"
   ]
  },
  {
   "cell_type": "markdown",
   "id": "936b5802-cb29-4aeb-b64b-737cf4f6e2ec",
   "metadata": {},
   "source": [
    "Теперь мы можем заметить, что в основном на корабле пассажиры, возраст которых от 20 до 40 лет, и некоторые участники возраст которых указывает на то что они малыши младше 3лет или пожилые люди, возраст которых превышает 60лет. Я думаю лучше будет заполнить пустые места с помощью функций mode(), так как значение в основном варируются между 20 и 40."
   ]
  },
  {
   "cell_type": "code",
   "execution_count": 4,
   "id": "1e88266d-ba47-42cf-a733-f16e5f6602fe",
   "metadata": {},
   "outputs": [],
   "source": [
    "df['age'].fillna(df['age'].mode()[0], inplace = True)"
   ]
  },
  {
   "cell_type": "markdown",
   "id": "8271648d-23d5-4ca4-8de4-72f87b2dbc4f",
   "metadata": {},
   "source": [
    "И вот так я заполнил пустые места модой. Далее мы так же можем заметить что столбцы embarked, deck, embark_town не полные, и теперь я заполню и их"
   ]
  },
  {
   "cell_type": "code",
   "execution_count": 5,
   "id": "260c3b1c-6d55-4cd8-aa0f-96a81ef4413d",
   "metadata": {},
   "outputs": [
    {
     "data": {
      "text/plain": [
       "0      unknown\n",
       "1            C\n",
       "2      unknown\n",
       "3            C\n",
       "4      unknown\n",
       "        ...   \n",
       "886    unknown\n",
       "887          B\n",
       "888    unknown\n",
       "889          C\n",
       "890    unknown\n",
       "Name: deck, Length: 891, dtype: object"
      ]
     },
     "execution_count": 5,
     "metadata": {},
     "output_type": "execute_result"
    }
   ],
   "source": [
    "df['deck'].fillna('unknown')"
   ]
  },
  {
   "cell_type": "markdown",
   "id": "530ca49b-5fa8-4715-b445-3ede167bb87c",
   "metadata": {},
   "source": [
    "Я заполнил пустые в столбце deck словом unknown "
   ]
  },
  {
   "cell_type": "code",
   "execution_count": 6,
   "id": "b8f26086-8c2b-49b4-b92f-d533d9bc6298",
   "metadata": {},
   "outputs": [
    {
     "name": "stdout",
     "output_type": "stream",
     "text": [
      "     Unnamed: 0  survived  pclass     sex   age  sibsp  parch  fare embarked  \\\n",
      "61           61         1       1  female  38.0      0      0  80.0      NaN   \n",
      "829         829         1       1  female  62.0      0      0  80.0      NaN   \n",
      "\n",
      "     class    who  adult_male deck embark_town alive  alone  \n",
      "61   First  woman       False    B         NaN   yes   True  \n",
      "829  First  woman       False    B         NaN   yes   True  \n"
     ]
    }
   ],
   "source": [
    "missing_both = df[df['embarked'].isnull() & df['embark_town'].isnull()]\n",
    "print(missing_both)"
   ]
  },
  {
   "cell_type": "markdown",
   "id": "cc940c3c-86f5-4647-8119-a63b27d1a05d",
   "metadata": {},
   "source": [
    "Данные строки нельзя заполнить, так как неизвестно город отправления(embark_town), и коды(embarked) в одинаковых строках, поэтому нельзя заполнить эти пустые места. По таблице мы можем заметить, что значение в столбце embarked совпадают с первой буквы города embark_town:Southampton - S, Cherbourg - C и т.д. И теперь когда я закончил с предобработкой, можно приступить к исследованию\n"
   ]
  },
  {
   "cell_type": "markdown",
   "id": "ecc77dfd-2431-4308-bd6f-7d7bbfd4c66c",
   "metadata": {},
   "source": [
    "# 1. Посчитаем средний возраст пассажиров сгруппированных по классам."
   ]
  },
  {
   "cell_type": "code",
   "execution_count": 7,
   "id": "419b60c3-4cb4-43a6-ad89-f077b478ba47",
   "metadata": {},
   "outputs": [
    {
     "data": {
      "text/html": [
       "<div>\n",
       "<style scoped>\n",
       "    .dataframe tbody tr th:only-of-type {\n",
       "        vertical-align: middle;\n",
       "    }\n",
       "\n",
       "    .dataframe tbody tr th {\n",
       "        vertical-align: top;\n",
       "    }\n",
       "\n",
       "    .dataframe thead th {\n",
       "        text-align: right;\n",
       "    }\n",
       "</style>\n",
       "<table border=\"1\" class=\"dataframe\">\n",
       "  <thead>\n",
       "    <tr style=\"text-align: right;\">\n",
       "      <th></th>\n",
       "      <th>class</th>\n",
       "      <th>age</th>\n",
       "    </tr>\n",
       "  </thead>\n",
       "  <tbody>\n",
       "    <tr>\n",
       "      <th>0</th>\n",
       "      <td>First</td>\n",
       "      <td>36.0</td>\n",
       "    </tr>\n",
       "    <tr>\n",
       "      <th>1</th>\n",
       "      <td>Second</td>\n",
       "      <td>30.0</td>\n",
       "    </tr>\n",
       "    <tr>\n",
       "      <th>2</th>\n",
       "      <td>Third</td>\n",
       "      <td>25.0</td>\n",
       "    </tr>\n",
       "  </tbody>\n",
       "</table>\n",
       "</div>"
      ],
      "text/plain": [
       "    class   age\n",
       "0   First  36.0\n",
       "1  Second  30.0\n",
       "2   Third  25.0"
      ]
     },
     "execution_count": 7,
     "metadata": {},
     "output_type": "execute_result"
    }
   ],
   "source": [
    "df.groupby('class').agg({'age':'mean'}).reset_index().round(0)"
   ]
  },
  {
   "cell_type": "markdown",
   "id": "5b29d9a6-d0a8-4923-86c7-5102e6c6b133",
   "metadata": {},
   "source": [
    "# 2. Выявим какого возраста пассажиры выжили больше всего"
   ]
  },
  {
   "cell_type": "code",
   "execution_count": 8,
   "id": "ba0d59a3-e498-47cd-b9e5-dd4ef2c24b45",
   "metadata": {},
   "outputs": [
    {
     "name": "stdout",
     "output_type": "stream",
     "text": [
      "Возраст пассажиров, которые выжили больше всего: 24.0\n"
     ]
    }
   ],
   "source": [
    "survived = df[df['survived'] == 1]\n",
    "\n",
    "df1 = survived['age'].mode().iloc[0]\n",
    "\n",
    "print(f'Возраст пассажиров, которые выжили больше всего: {df1}')"
   ]
  },
  {
   "cell_type": "markdown",
   "id": "7ba68aee-2d97-42c4-9a7f-6695d4f59d80",
   "metadata": {},
   "source": [
    "# 3. Выявим какие возраста в основном были рассредоточены по классам, а также среднюю плату за билеты среди них"
   ]
  },
  {
   "cell_type": "code",
   "execution_count": 9,
   "id": "e9718b4a-9ec1-4a2f-aabc-21c1780ba8a7",
   "metadata": {},
   "outputs": [
    {
     "data": {
      "text/plain": [
       "class  age  \n",
       "First  0.92     151.5500\n",
       "       2.00     151.5500\n",
       "       4.00      81.8583\n",
       "       11.00    120.0000\n",
       "       14.00    120.0000\n",
       "                  ...   \n",
       "Third  61.00      6.2375\n",
       "       63.00      9.5875\n",
       "       65.00      7.7500\n",
       "       70.50      7.7500\n",
       "       74.00      7.7750\n",
       "Name: fare, Length: 182, dtype: float64"
      ]
     },
     "execution_count": 9,
     "metadata": {},
     "output_type": "execute_result"
    }
   ],
   "source": [
    "df2= df.groupby(['class','age'])['fare'].mean()\n",
    "df2"
   ]
  },
  {
   "cell_type": "markdown",
   "id": "69b15198-3303-44cd-9f5e-ccba4dce6952",
   "metadata": {},
   "source": [
    "Сначало мы группировали пассажиров по их возрасту и классу и нашли среднюю стоимость билет для каждого возраста пассажира."
   ]
  },
  {
   "cell_type": "code",
   "execution_count": 10,
   "id": "2c3ca832-ae20-41ef-876d-515769e216f6",
   "metadata": {},
   "outputs": [
    {
     "data": {
      "text/plain": [
       "15.0"
      ]
     },
     "execution_count": 10,
     "metadata": {},
     "output_type": "execute_result"
    }
   ],
   "source": [
    "most_varied_age = df2.groupby('age').std().idxmax()\n",
    "most_varied_age"
   ]
  },
  {
   "cell_type": "markdown",
   "id": "abf3f0fc-7f70-4a69-8b35-a0d1e815de35",
   "metadata": {},
   "source": [
    "Тут мы сначало находим стандартное отклонение, а далее возраст с наибольшим стандартным отклонением, что равняется 15 лет."
   ]
  },
  {
   "cell_type": "code",
   "execution_count": 11,
   "id": "e26cbbff-082e-4254-bbd9-5d1dbf9a302b",
   "metadata": {},
   "outputs": [
    {
     "data": {
      "text/plain": [
       "110.28595"
      ]
     },
     "execution_count": 11,
     "metadata": {},
     "output_type": "execute_result"
    }
   ],
   "source": [
    "average_fare = df2.loc(axis=0)[:, most_varied_age].mean()\n",
    "average_fare"
   ]
  },
  {
   "cell_type": "markdown",
   "id": "bcaafc0d-b52f-4b64-9467-b72d7a3b8930",
   "metadata": {},
   "source": [
    "Далее мы нашли среднюю плату за билет среди людей, у которых возраст равна 15 лет, агрегировав данные по всем классам "
   ]
  },
  {
   "cell_type": "markdown",
   "id": "22dbfa1b-e927-4644-b758-9b425b707b28",
   "metadata": {},
   "source": [
    "# 4. Выявим в каком порту было больше всего пассажиров до 40 лет"
   ]
  },
  {
   "cell_type": "code",
   "execution_count": 12,
   "id": "a9a2822f-be16-48b1-96eb-6154863b0fdd",
   "metadata": {},
   "outputs": [
    {
     "data": {
      "text/html": [
       "<div>\n",
       "<style scoped>\n",
       "    .dataframe tbody tr th:only-of-type {\n",
       "        vertical-align: middle;\n",
       "    }\n",
       "\n",
       "    .dataframe tbody tr th {\n",
       "        vertical-align: top;\n",
       "    }\n",
       "\n",
       "    .dataframe thead th {\n",
       "        text-align: right;\n",
       "    }\n",
       "</style>\n",
       "<table border=\"1\" class=\"dataframe\">\n",
       "  <thead>\n",
       "    <tr style=\"text-align: right;\">\n",
       "      <th></th>\n",
       "      <th>embark_town</th>\n",
       "      <th>age</th>\n",
       "    </tr>\n",
       "  </thead>\n",
       "  <tbody>\n",
       "    <tr>\n",
       "      <th>0</th>\n",
       "      <td>Southampton</td>\n",
       "      <td>523</td>\n",
       "    </tr>\n",
       "  </tbody>\n",
       "</table>\n",
       "</div>"
      ],
      "text/plain": [
       "   embark_town  age\n",
       "0  Southampton  523"
      ]
     },
     "execution_count": 12,
     "metadata": {},
     "output_type": "execute_result"
    }
   ],
   "source": [
    "passengers_under40 = df[df['age'] < 40]\n",
    "\n",
    "port_with_p_u40 = passengers_under40.groupby('embark_town').agg({'age':'count'}).sort_values(by = 'age', ascending = False).head(1).reset_index()\n",
    "port_with_p_u40"
   ]
  },
  {
   "cell_type": "markdown",
   "id": "9f2908da-a725-40be-9b9d-76335b02fb50",
   "metadata": {},
   "source": [
    "# 5. Выявим самый популярный класс для пассажиров женского пола и среднюю цену поездки по ним"
   ]
  },
  {
   "cell_type": "code",
   "execution_count": 41,
   "id": "41007ffe-d60e-4989-8f19-c67750c1c4c7",
   "metadata": {},
   "outputs": [
    {
     "name": "stdout",
     "output_type": "stream",
     "text": [
      "Самый популярный класс среди женщин: Third\n"
     ]
    }
   ],
   "source": [
    "women = df[df['who'] == 'woman']\n",
    "popular_class = women['class'].mode().iloc[0]\n",
    "print('Самый популярный класс среди женщин:',popular_class)"
   ]
  },
  {
   "cell_type": "code",
   "execution_count": 43,
   "id": "c2a62ad4-7589-48b3-9f70-c285ec315e93",
   "metadata": {},
   "outputs": [
    {
     "name": "stdout",
     "output_type": "stream",
     "text": [
      "Средняя цена поездки для женщин в третьем классе: 15.354350877192982\n"
     ]
    }
   ],
   "source": [
    "third_class = women[women['class'] == popular_class]\n",
    "average_fare_for_women = third_class['fare'].mean()\n",
    "print('Средняя цена поездки для женщин в третьем классе:',average_fare_for_women)"
   ]
  },
  {
   "cell_type": "markdown",
   "id": "ab2b0e7a-0be2-434c-b0da-99a96482f53f",
   "metadata": {},
   "source": [
    "# 6. Разделив пассажиров по полам, выявим какие пассажиры имеют большую сумму платы за поездку."
   ]
  },
  {
   "cell_type": "code",
   "execution_count": 20,
   "id": "2c53fda1-a051-431a-8a27-c78b3b466f73",
   "metadata": {},
   "outputs": [
    {
     "data": {
      "text/html": [
       "<div>\n",
       "<style scoped>\n",
       "    .dataframe tbody tr th:only-of-type {\n",
       "        vertical-align: middle;\n",
       "    }\n",
       "\n",
       "    .dataframe tbody tr th {\n",
       "        vertical-align: top;\n",
       "    }\n",
       "\n",
       "    .dataframe thead th {\n",
       "        text-align: right;\n",
       "    }\n",
       "</style>\n",
       "<table border=\"1\" class=\"dataframe\">\n",
       "  <thead>\n",
       "    <tr style=\"text-align: right;\">\n",
       "      <th></th>\n",
       "      <th>sex</th>\n",
       "      <th>fare</th>\n",
       "    </tr>\n",
       "  </thead>\n",
       "  <tbody>\n",
       "    <tr>\n",
       "      <th>0</th>\n",
       "      <td>male</td>\n",
       "      <td>14727.2865</td>\n",
       "    </tr>\n",
       "    <tr>\n",
       "      <th>1</th>\n",
       "      <td>female</td>\n",
       "      <td>13966.6628</td>\n",
       "    </tr>\n",
       "  </tbody>\n",
       "</table>\n",
       "</div>"
      ],
      "text/plain": [
       "      sex        fare\n",
       "0    male  14727.2865\n",
       "1  female  13966.6628"
      ]
     },
     "execution_count": 20,
     "metadata": {},
     "output_type": "execute_result"
    }
   ],
   "source": [
    "large_amount_of_fare = df.groupby('sex').agg({'fare':'sum'}).sort_values(by = 'fare', ascending = False).reset_index()\n",
    "large_amount_of_fare"
   ]
  },
  {
   "cell_type": "markdown",
   "id": "34a5f364-88f0-4caf-ba01-aa1be613e3c9",
   "metadata": {},
   "source": [
    "# 7. Теперь посчитаем сколько было заработано денег в целом"
   ]
  },
  {
   "cell_type": "code",
   "execution_count": 31,
   "id": "fc47d1cc-0122-4e86-8929-341c13763645",
   "metadata": {},
   "outputs": [],
   "source": [
    "total_earnings = large_amount_of_fare['fare'].sum()"
   ]
  },
  {
   "cell_type": "code",
   "execution_count": 39,
   "id": "b0e580fb-fd47-4053-bfdd-b17ffc501002",
   "metadata": {},
   "outputs": [
    {
     "name": "stdout",
     "output_type": "stream",
     "text": [
      "В целом было заработано 28693.9493 долларов\n"
     ]
    }
   ],
   "source": [
    "print('В целом было заработано',total_earnings,'долларов')"
   ]
  },
  {
   "cell_type": "markdown",
   "id": "4b78df15-3d94-42b4-a55c-af93ed77df24",
   "metadata": {},
   "source": [
    "# 8. Предположим, что компания решила выплатить компенсацию, пострадавшим семьям. Посчитаем сколько компания должна выплатить родственникам погибших на титанике, если компания обязана выплатить 100тыс долларов за каждого погибшего человека."
   ]
  },
  {
   "cell_type": "code",
   "execution_count": 34,
   "id": "d38b9713-f8e4-47cf-ae2c-2b3ce6e3e9cb",
   "metadata": {},
   "outputs": [
    {
     "data": {
      "text/plain": [
       "549"
      ]
     },
     "execution_count": 34,
     "metadata": {},
     "output_type": "execute_result"
    }
   ],
   "source": [
    "ds = df[df['alive'] == 'no']\n",
    "deceaseds = ds['alive'].count()\n",
    "deceaseds"
   ]
  },
  {
   "cell_type": "code",
   "execution_count": 38,
   "id": "e7e6dcc6-9c1f-4da6-a12a-284fadba0bb5",
   "metadata": {},
   "outputs": [
    {
     "name": "stdout",
     "output_type": "stream",
     "text": [
      "Компания должна выплатить родственникам погибших: 54900000 долларов\n"
     ]
    }
   ],
   "source": [
    "compensation = 100000\n",
    "\n",
    "total_payout = deceaseds * compensation\n",
    "print('Компания должна выплатить родственникам погибших:',total_payout,'долларов')"
   ]
  },
  {
   "cell_type": "markdown",
   "id": "d7a7c8a3-6922-481d-8784-87d22fccd020",
   "metadata": {},
   "source": [
    "# Вывод"
   ]
  },
  {
   "cell_type": "markdown",
   "id": "7fb8aca9-0e11-4b89-9cee-fe91e1d754a1",
   "metadata": {},
   "source": [
    "### Исходя из исследования можно сказать что это поистину трагичная ситуация, всего на корабль взошли 891 пассажиров, и из них больше половина(549) к сожалению погибла. \n",
    "### Итак мы имеем следующее данные:\n",
    "\n",
    "#### 1. В основном возраст пассажиров было между 20 и 40, средний возраст пассажиров 1 класса - 36, 2 класса - 30, третьего класса - 25. Мы можем заметить что возраст пассажиров меняется исходя из класса, то есть пассажиры в более высоком классе имели более высокий средний возраст. Средний возраст  пассажиров, которые выжили - 24.\n",
    "#### 2. Основная часть пассажиров(523), возраст которых был до 40, взошли на борт с порта Саутгемптон. Это больше чем половина от общего количества пассажиров.\n",
    "#### 3. В целом компания заработала 28693.9493 долларов за данное путешествие\n",
    "#### 4. Компания выплатила родственникам 549 погибших пассажиров по 100000 долларов, и в сумме выплатила 54900000 долларов.\n",
    "\n",
    "### Компания в итоге понесла убыток в размере 54,871,306.1 долларов"
   ]
  }
 ],
 "metadata": {
  "kernelspec": {
   "display_name": "Python 3 (ipykernel)",
   "language": "python",
   "name": "python3"
  },
  "language_info": {
   "codemirror_mode": {
    "name": "ipython",
    "version": 3
   },
   "file_extension": ".py",
   "mimetype": "text/x-python",
   "name": "python",
   "nbconvert_exporter": "python",
   "pygments_lexer": "ipython3",
   "version": "3.11.7"
  }
 },
 "nbformat": 4,
 "nbformat_minor": 5
}
